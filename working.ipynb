version https://git-lfs.github.com/spec/v1
oid sha256:a2641b25a888e02e56eeaebee5236dc9e85a45ed2018478c62ac93d6f604049f
size 143331335
